{
 "cells": [
  {
   "cell_type": "markdown",
   "metadata": {},
   "source": [
    "# Geolokasjondata transformering\n",
    "\n",
    "av Bjørn Christian Weinbach\n",
    "\n",
    "I denne jupyter-notebooken blir diverse Geolokasjondata utforska for å finne ut kva format som egner seg best til å bli brukt i Drupal 8 og i backenden av prosjektet til DigdirCamp 2020.\n",
    "\n",
    "## Datasett i bruk\n",
    "\n",
    "https://data.norge.no/datasets/d1669dac-f1a3-446e-a94f-4febd79c8e28"
   ]
  },
  {
   "cell_type": "markdown",
   "metadata": {},
   "source": [
    "## importer bibiliotek"
   ]
  },
  {
   "cell_type": "code",
   "execution_count": null,
   "metadata": {},
   "outputs": [],
   "source": [
    "import pandas as pd\n",
    "import numpy as np"
   ]
  },
  {
   "cell_type": "markdown",
   "metadata": {},
   "source": [
    "## Importer data"
   ]
  },
  {
   "cell_type": "code",
   "execution_count": null,
   "metadata": {},
   "outputs": [],
   "source": [
    "geodata = pd.read_csv(\"vgs.csv\")\n",
    "geodata.head()"
   ]
  },
  {
   "cell_type": "markdown",
   "metadata": {},
   "source": [
    "## Fjern skular som ikkje er aktive"
   ]
  },
  {
   "cell_type": "code",
   "execution_count": null,
   "metadata": {},
   "outputs": [],
   "source": [
    "geodata = geodata[geodata[\"iDrift\"] == \"Ja\"]"
   ]
  },
  {
   "cell_type": "markdown",
   "metadata": {},
   "source": [
    "## Hent ut dei kolonnene me bryr oss om"
   ]
  },
  {
   "cell_type": "code",
   "execution_count": null,
   "metadata": {},
   "outputs": [],
   "source": [
    "data = geodata[[\"X\", \"Y\", \"skolenavn\", \"epostadresse\", \"postnummer\", \"poststed\", \"webside\"]]"
   ]
  },
  {
   "cell_type": "markdown",
   "metadata": {},
   "source": [
    "## Reset index på dataframe"
   ]
  },
  {
   "cell_type": "code",
   "execution_count": null,
   "metadata": {},
   "outputs": [],
   "source": [
    "data = data.reset_index(drop = True)"
   ]
  },
  {
   "cell_type": "markdown",
   "metadata": {},
   "source": [
    "## Lagre datasettet som fil"
   ]
  },
  {
   "cell_type": "code",
   "execution_count": null,
   "metadata": {},
   "outputs": [],
   "source": [
    "titl = []\n",
    "\n",
    "for i in range(len(data)):\n",
    "    titl.append(\"Node \" + str(i))\n",
    "\n",
    "\n",
    "drupal_csv = pd.DataFrame()\n",
    "drupal_csv['title'] = titl \n",
    "drupal_csv['field_lengdegrad'] = data[\"X\"]\n",
    "drupal_csv['field_breddegrad'] = data[\"Y\"]\n",
    "drupal_csv['field_skolenavn'] = data[\"skolenavn\"]\n",
    "drupal_csv['field_epostadresse'] = data[\"epostadresse\"]\n",
    "drupal_csv['field_postnummer_skole'] = data['postnummer']\n",
    "drupal_csv['field_post'] = data['poststed']\n",
    "drupal_csv['field_webside'] = data['webside']\n",
    "drupal_csv.to_csv('skoler-drupal8.csv', index=False)"
   ]
  }
 ],
 "metadata": {
  "language_info": {
   "codemirror_mode": {
    "name": "ipython",
    "version": 3
   },
   "file_extension": ".py",
   "mimetype": "text/x-python",
   "name": "python",
   "nbconvert_exporter": "python",
   "pygments_lexer": "ipython3",
   "version": "3.8.3-final"
  },
  "orig_nbformat": 2,
  "kernelspec": {
   "name": "python38364bitpydigdirconda79d9abb225414d81a71086b23337a662",
   "display_name": "Python 3.8.3 64-bit ('pyDigDir': conda)"
  }
 },
 "nbformat": 4,
 "nbformat_minor": 2
}